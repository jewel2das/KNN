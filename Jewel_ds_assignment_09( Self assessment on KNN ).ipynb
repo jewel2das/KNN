{
 "cells": [
  {
   "cell_type": "markdown",
   "id": "5c842497",
   "metadata": {},
   "source": [
    "# Step-1 : KNN Regressor & Linear Regression:"
   ]
  },
  {
   "cell_type": "code",
   "execution_count": 1,
   "id": "01ab0a87",
   "metadata": {},
   "outputs": [],
   "source": [
    "import pandas as pd\n",
    "import numpy as np\n",
    "import warnings\n",
    "import seaborn as sns\n",
    "from matplotlib import pyplot as plt\n",
    "from sklearn.model_selection import train_test_split\n",
    "from sklearn.linear_model import LinearRegression\n",
    "from sklearn.metrics import mean_absolute_error\n",
    "from sklearn.metrics import mean_squared_error\n",
    "from sklearn.preprocessing import LabelEncoder\n",
    "warnings.filterwarnings('ignore')"
   ]
  },
  {
   "cell_type": "code",
   "execution_count": 2,
   "id": "4c073e84",
   "metadata": {},
   "outputs": [],
   "source": [
    "df=pd.read_csv('weight-height.csv')"
   ]
  },
  {
   "cell_type": "code",
   "execution_count": 3,
   "id": "af4353cd",
   "metadata": {},
   "outputs": [
    {
     "data": {
      "text/html": [
       "<div>\n",
       "<style scoped>\n",
       "    .dataframe tbody tr th:only-of-type {\n",
       "        vertical-align: middle;\n",
       "    }\n",
       "\n",
       "    .dataframe tbody tr th {\n",
       "        vertical-align: top;\n",
       "    }\n",
       "\n",
       "    .dataframe thead th {\n",
       "        text-align: right;\n",
       "    }\n",
       "</style>\n",
       "<table border=\"1\" class=\"dataframe\">\n",
       "  <thead>\n",
       "    <tr style=\"text-align: right;\">\n",
       "      <th></th>\n",
       "      <th>Gender</th>\n",
       "      <th>Height</th>\n",
       "      <th>Weight</th>\n",
       "    </tr>\n",
       "  </thead>\n",
       "  <tbody>\n",
       "    <tr>\n",
       "      <th>0</th>\n",
       "      <td>Male</td>\n",
       "      <td>73.847017</td>\n",
       "      <td>241.893563</td>\n",
       "    </tr>\n",
       "    <tr>\n",
       "      <th>1</th>\n",
       "      <td>Male</td>\n",
       "      <td>68.781904</td>\n",
       "      <td>162.310473</td>\n",
       "    </tr>\n",
       "    <tr>\n",
       "      <th>2</th>\n",
       "      <td>Male</td>\n",
       "      <td>74.110105</td>\n",
       "      <td>212.740856</td>\n",
       "    </tr>\n",
       "    <tr>\n",
       "      <th>3</th>\n",
       "      <td>Male</td>\n",
       "      <td>71.730978</td>\n",
       "      <td>220.042470</td>\n",
       "    </tr>\n",
       "    <tr>\n",
       "      <th>4</th>\n",
       "      <td>Male</td>\n",
       "      <td>69.881796</td>\n",
       "      <td>206.349801</td>\n",
       "    </tr>\n",
       "  </tbody>\n",
       "</table>\n",
       "</div>"
      ],
      "text/plain": [
       "  Gender     Height      Weight\n",
       "0   Male  73.847017  241.893563\n",
       "1   Male  68.781904  162.310473\n",
       "2   Male  74.110105  212.740856\n",
       "3   Male  71.730978  220.042470\n",
       "4   Male  69.881796  206.349801"
      ]
     },
     "execution_count": 3,
     "metadata": {},
     "output_type": "execute_result"
    }
   ],
   "source": [
    "df.head()"
   ]
  },
  {
   "cell_type": "code",
   "execution_count": 4,
   "id": "a380bd32",
   "metadata": {},
   "outputs": [
    {
     "data": {
      "text/plain": [
       "(8555, 3)"
      ]
     },
     "execution_count": 4,
     "metadata": {},
     "output_type": "execute_result"
    }
   ],
   "source": [
    "df.shape"
   ]
  },
  {
   "cell_type": "code",
   "execution_count": 5,
   "id": "64ad2724",
   "metadata": {
    "scrolled": true
   },
   "outputs": [
    {
     "data": {
      "text/html": [
       "<div>\n",
       "<style scoped>\n",
       "    .dataframe tbody tr th:only-of-type {\n",
       "        vertical-align: middle;\n",
       "    }\n",
       "\n",
       "    .dataframe tbody tr th {\n",
       "        vertical-align: top;\n",
       "    }\n",
       "\n",
       "    .dataframe thead th {\n",
       "        text-align: right;\n",
       "    }\n",
       "</style>\n",
       "<table border=\"1\" class=\"dataframe\">\n",
       "  <thead>\n",
       "    <tr style=\"text-align: right;\">\n",
       "      <th></th>\n",
       "      <th>Height</th>\n",
       "      <th>Weight</th>\n",
       "    </tr>\n",
       "  </thead>\n",
       "  <tbody>\n",
       "    <tr>\n",
       "      <th>count</th>\n",
       "      <td>8555.000000</td>\n",
       "      <td>8555.000000</td>\n",
       "    </tr>\n",
       "    <tr>\n",
       "      <th>mean</th>\n",
       "      <td>66.809925</td>\n",
       "      <td>165.632735</td>\n",
       "    </tr>\n",
       "    <tr>\n",
       "      <th>std</th>\n",
       "      <td>3.851454</td>\n",
       "      <td>32.043922</td>\n",
       "    </tr>\n",
       "    <tr>\n",
       "      <th>min</th>\n",
       "      <td>54.616858</td>\n",
       "      <td>65.780000</td>\n",
       "    </tr>\n",
       "    <tr>\n",
       "      <th>25%</th>\n",
       "      <td>63.957684</td>\n",
       "      <td>139.876803</td>\n",
       "    </tr>\n",
       "    <tr>\n",
       "      <th>50%</th>\n",
       "      <td>66.985923</td>\n",
       "      <td>168.521567</td>\n",
       "    </tr>\n",
       "    <tr>\n",
       "      <th>75%</th>\n",
       "      <td>69.604427</td>\n",
       "      <td>190.666305</td>\n",
       "    </tr>\n",
       "    <tr>\n",
       "      <th>max</th>\n",
       "      <td>80.450000</td>\n",
       "      <td>269.989698</td>\n",
       "    </tr>\n",
       "  </tbody>\n",
       "</table>\n",
       "</div>"
      ],
      "text/plain": [
       "            Height       Weight\n",
       "count  8555.000000  8555.000000\n",
       "mean     66.809925   165.632735\n",
       "std       3.851454    32.043922\n",
       "min      54.616858    65.780000\n",
       "25%      63.957684   139.876803\n",
       "50%      66.985923   168.521567\n",
       "75%      69.604427   190.666305\n",
       "max      80.450000   269.989698"
      ]
     },
     "execution_count": 5,
     "metadata": {},
     "output_type": "execute_result"
    }
   ],
   "source": [
    "df.describe()"
   ]
  },
  {
   "cell_type": "code",
   "execution_count": 6,
   "id": "19c908a3",
   "metadata": {
    "scrolled": true
   },
   "outputs": [
    {
     "name": "stdout",
     "output_type": "stream",
     "text": [
      "<class 'pandas.core.frame.DataFrame'>\n",
      "RangeIndex: 8555 entries, 0 to 8554\n",
      "Data columns (total 3 columns):\n",
      " #   Column  Non-Null Count  Dtype  \n",
      "---  ------  --------------  -----  \n",
      " 0   Gender  8555 non-null   object \n",
      " 1   Height  8555 non-null   float64\n",
      " 2   Weight  8555 non-null   float64\n",
      "dtypes: float64(2), object(1)\n",
      "memory usage: 200.6+ KB\n"
     ]
    }
   ],
   "source": [
    "df.info()"
   ]
  },
  {
   "cell_type": "code",
   "execution_count": 7,
   "id": "adb84252",
   "metadata": {},
   "outputs": [],
   "source": [
    "le=LabelEncoder()"
   ]
  },
  {
   "cell_type": "code",
   "execution_count": 8,
   "id": "d4196ccf",
   "metadata": {},
   "outputs": [],
   "source": [
    "df['Gender']=le.fit_transform(df[['Gender']])"
   ]
  },
  {
   "cell_type": "code",
   "execution_count": 9,
   "id": "ee5e21de",
   "metadata": {},
   "outputs": [],
   "source": [
    "x=df.drop('Weight', axis=1)"
   ]
  },
  {
   "cell_type": "code",
   "execution_count": 10,
   "id": "0aa9494c",
   "metadata": {},
   "outputs": [
    {
     "data": {
      "text/html": [
       "<div>\n",
       "<style scoped>\n",
       "    .dataframe tbody tr th:only-of-type {\n",
       "        vertical-align: middle;\n",
       "    }\n",
       "\n",
       "    .dataframe tbody tr th {\n",
       "        vertical-align: top;\n",
       "    }\n",
       "\n",
       "    .dataframe thead th {\n",
       "        text-align: right;\n",
       "    }\n",
       "</style>\n",
       "<table border=\"1\" class=\"dataframe\">\n",
       "  <thead>\n",
       "    <tr style=\"text-align: right;\">\n",
       "      <th></th>\n",
       "      <th>Gender</th>\n",
       "      <th>Height</th>\n",
       "    </tr>\n",
       "  </thead>\n",
       "  <tbody>\n",
       "    <tr>\n",
       "      <th>0</th>\n",
       "      <td>1</td>\n",
       "      <td>73.847017</td>\n",
       "    </tr>\n",
       "    <tr>\n",
       "      <th>1</th>\n",
       "      <td>1</td>\n",
       "      <td>68.781904</td>\n",
       "    </tr>\n",
       "    <tr>\n",
       "      <th>2</th>\n",
       "      <td>1</td>\n",
       "      <td>74.110105</td>\n",
       "    </tr>\n",
       "    <tr>\n",
       "      <th>3</th>\n",
       "      <td>1</td>\n",
       "      <td>71.730978</td>\n",
       "    </tr>\n",
       "    <tr>\n",
       "      <th>4</th>\n",
       "      <td>1</td>\n",
       "      <td>69.881796</td>\n",
       "    </tr>\n",
       "  </tbody>\n",
       "</table>\n",
       "</div>"
      ],
      "text/plain": [
       "   Gender     Height\n",
       "0       1  73.847017\n",
       "1       1  68.781904\n",
       "2       1  74.110105\n",
       "3       1  71.730978\n",
       "4       1  69.881796"
      ]
     },
     "execution_count": 10,
     "metadata": {},
     "output_type": "execute_result"
    }
   ],
   "source": [
    "x.head()"
   ]
  },
  {
   "cell_type": "code",
   "execution_count": 11,
   "id": "36728ce5",
   "metadata": {},
   "outputs": [],
   "source": [
    "y=df['Weight']"
   ]
  },
  {
   "cell_type": "code",
   "execution_count": 12,
   "id": "b3860dc5",
   "metadata": {},
   "outputs": [
    {
     "data": {
      "text/plain": [
       "0    241.893563\n",
       "1    162.310473\n",
       "2    212.740856\n",
       "3    220.042470\n",
       "4    206.349801\n",
       "Name: Weight, dtype: float64"
      ]
     },
     "execution_count": 12,
     "metadata": {},
     "output_type": "execute_result"
    }
   ],
   "source": [
    "y.head()"
   ]
  },
  {
   "cell_type": "code",
   "execution_count": 13,
   "id": "3207415c",
   "metadata": {},
   "outputs": [],
   "source": [
    "xtrain, xtest, ytrain, ytest = train_test_split(x, y, test_size=.3, random_state=142)"
   ]
  },
  {
   "cell_type": "code",
   "execution_count": 14,
   "id": "5e894c38",
   "metadata": {},
   "outputs": [
    {
     "data": {
      "text/plain": [
       "(5988, 2)"
      ]
     },
     "execution_count": 14,
     "metadata": {},
     "output_type": "execute_result"
    }
   ],
   "source": [
    "xtrain.shape"
   ]
  },
  {
   "cell_type": "code",
   "execution_count": 15,
   "id": "df8bc0ce",
   "metadata": {},
   "outputs": [
    {
     "data": {
      "text/plain": [
       "(2567, 2)"
      ]
     },
     "execution_count": 15,
     "metadata": {},
     "output_type": "execute_result"
    }
   ],
   "source": [
    "xtest.shape"
   ]
  },
  {
   "cell_type": "markdown",
   "id": "3d0e4ac9",
   "metadata": {},
   "source": [
    "# Linear Regression"
   ]
  },
  {
   "cell_type": "code",
   "execution_count": 16,
   "id": "b22b2901",
   "metadata": {},
   "outputs": [],
   "source": [
    "lrg=LinearRegression()"
   ]
  },
  {
   "cell_type": "code",
   "execution_count": 17,
   "id": "aef6d18a",
   "metadata": {
    "scrolled": true
   },
   "outputs": [
    {
     "data": {
      "text/plain": [
       "LinearRegression()"
      ]
     },
     "execution_count": 17,
     "metadata": {},
     "output_type": "execute_result"
    }
   ],
   "source": [
    "lrg.fit(xtrain,ytrain)"
   ]
  },
  {
   "cell_type": "code",
   "execution_count": 18,
   "id": "e236c259",
   "metadata": {
    "scrolled": true
   },
   "outputs": [
    {
     "data": {
      "text/html": [
       "<div>\n",
       "<style scoped>\n",
       "    .dataframe tbody tr th:only-of-type {\n",
       "        vertical-align: middle;\n",
       "    }\n",
       "\n",
       "    .dataframe tbody tr th {\n",
       "        vertical-align: top;\n",
       "    }\n",
       "\n",
       "    .dataframe thead th {\n",
       "        text-align: right;\n",
       "    }\n",
       "</style>\n",
       "<table border=\"1\" class=\"dataframe\">\n",
       "  <thead>\n",
       "    <tr style=\"text-align: right;\">\n",
       "      <th></th>\n",
       "      <th>Gender</th>\n",
       "      <th>Height</th>\n",
       "    </tr>\n",
       "  </thead>\n",
       "  <tbody>\n",
       "    <tr>\n",
       "      <th>5257</th>\n",
       "      <td>0</td>\n",
       "      <td>61.124727</td>\n",
       "    </tr>\n",
       "    <tr>\n",
       "      <th>2226</th>\n",
       "      <td>1</td>\n",
       "      <td>65.562804</td>\n",
       "    </tr>\n",
       "    <tr>\n",
       "      <th>3973</th>\n",
       "      <td>1</td>\n",
       "      <td>69.696567</td>\n",
       "    </tr>\n",
       "    <tr>\n",
       "      <th>8445</th>\n",
       "      <td>0</td>\n",
       "      <td>65.125407</td>\n",
       "    </tr>\n",
       "    <tr>\n",
       "      <th>6296</th>\n",
       "      <td>0</td>\n",
       "      <td>59.499077</td>\n",
       "    </tr>\n",
       "  </tbody>\n",
       "</table>\n",
       "</div>"
      ],
      "text/plain": [
       "      Gender     Height\n",
       "5257       0  61.124727\n",
       "2226       1  65.562804\n",
       "3973       1  69.696567\n",
       "8445       0  65.125407\n",
       "6296       0  59.499077"
      ]
     },
     "execution_count": 18,
     "metadata": {},
     "output_type": "execute_result"
    }
   ],
   "source": [
    "xtest.head()"
   ]
  },
  {
   "cell_type": "code",
   "execution_count": 19,
   "id": "7b7feedd",
   "metadata": {},
   "outputs": [
    {
     "data": {
      "text/plain": [
       "5257    117.388949\n",
       "2226    162.521916\n",
       "3973    181.206640\n",
       "8445    140.376336\n",
       "6296    128.915659\n",
       "Name: Weight, dtype: float64"
      ]
     },
     "execution_count": 19,
     "metadata": {},
     "output_type": "execute_result"
    }
   ],
   "source": [
    "ytest.head()"
   ]
  },
  {
   "cell_type": "code",
   "execution_count": 20,
   "id": "ae6d96e6",
   "metadata": {},
   "outputs": [
    {
     "data": {
      "text/plain": [
       "array([120.47566549])"
      ]
     },
     "execution_count": 20,
     "metadata": {},
     "output_type": "execute_result"
    }
   ],
   "source": [
    "lrg.predict([[0, 61.124727]])"
   ]
  },
  {
   "cell_type": "code",
   "execution_count": 21,
   "id": "70d2214f",
   "metadata": {},
   "outputs": [],
   "source": [
    "pred=lrg.predict(xtest)"
   ]
  },
  {
   "cell_type": "code",
   "execution_count": 22,
   "id": "ab4dee01",
   "metadata": {},
   "outputs": [
    {
     "name": "stdout",
     "output_type": "stream",
     "text": [
      "[120.47566305 166.37257846 190.99920033 ... 186.80502797 167.42155508\n",
      " 122.8979371 ]\n"
     ]
    }
   ],
   "source": [
    "print(pred)"
   ]
  },
  {
   "cell_type": "code",
   "execution_count": 23,
   "id": "eeab385c",
   "metadata": {},
   "outputs": [
    {
     "data": {
      "text/plain": [
       "array([117.388949 , 162.5219156, 181.2066396, ..., 193.7549909,\n",
       "       166.6227324, 140.9801576])"
      ]
     },
     "execution_count": 23,
     "metadata": {},
     "output_type": "execute_result"
    }
   ],
   "source": [
    "np.array(ytest)"
   ]
  },
  {
   "cell_type": "code",
   "execution_count": 24,
   "id": "3e76f48d",
   "metadata": {},
   "outputs": [
    {
     "data": {
      "text/plain": [
       "100.46606328177812"
      ]
     },
     "execution_count": 24,
     "metadata": {},
     "output_type": "execute_result"
    }
   ],
   "source": [
    "mean_squared_error(ytest,pred)"
   ]
  },
  {
   "cell_type": "code",
   "execution_count": 25,
   "id": "1c870d4d",
   "metadata": {},
   "outputs": [
    {
     "data": {
      "text/plain": [
       "7.930329203847612"
      ]
     },
     "execution_count": 25,
     "metadata": {},
     "output_type": "execute_result"
    }
   ],
   "source": [
    "mean_absolute_error(ytest,pred)"
   ]
  },
  {
   "cell_type": "code",
   "execution_count": 26,
   "id": "7309884d",
   "metadata": {},
   "outputs": [
    {
     "data": {
      "text/plain": [
       "array([19.45735701,  5.95743496])"
      ]
     },
     "execution_count": 26,
     "metadata": {},
     "output_type": "execute_result"
    }
   ],
   "source": [
    "lrg.coef_"
   ]
  },
  {
   "cell_type": "code",
   "execution_count": 27,
   "id": "a2994881",
   "metadata": {},
   "outputs": [
    {
     "data": {
      "text/plain": [
       "-243.67091979911214"
      ]
     },
     "execution_count": 27,
     "metadata": {},
     "output_type": "execute_result"
    }
   ],
   "source": [
    "lrg.intercept_"
   ]
  },
  {
   "cell_type": "code",
   "execution_count": 28,
   "id": "c4da7e5a",
   "metadata": {},
   "outputs": [
    {
     "data": {
      "text/plain": [
       "0.901201889278392"
      ]
     },
     "execution_count": 28,
     "metadata": {},
     "output_type": "execute_result"
    }
   ],
   "source": [
    "lrg.score(xtest,ytest)"
   ]
  },
  {
   "cell_type": "code",
   "execution_count": 29,
   "id": "331b588e",
   "metadata": {},
   "outputs": [
    {
     "data": {
      "text/plain": [
       "0.8993784595108808"
      ]
     },
     "execution_count": 29,
     "metadata": {},
     "output_type": "execute_result"
    }
   ],
   "source": [
    "lrg.score(xtrain,ytrain)"
   ]
  },
  {
   "cell_type": "markdown",
   "id": "bcd9987f",
   "metadata": {},
   "source": [
    "# KNN Regression"
   ]
  },
  {
   "cell_type": "code",
   "execution_count": 30,
   "id": "cdae2e0e",
   "metadata": {},
   "outputs": [],
   "source": [
    "from sklearn.neighbors import KNeighborsRegressor"
   ]
  },
  {
   "cell_type": "code",
   "execution_count": 94,
   "id": "5ad2bebe",
   "metadata": {},
   "outputs": [],
   "source": [
    "knneig=KNeighborsRegressor(n_neighbors=200)"
   ]
  },
  {
   "cell_type": "code",
   "execution_count": 95,
   "id": "e275593f",
   "metadata": {},
   "outputs": [
    {
     "data": {
      "text/plain": [
       "KNeighborsRegressor(n_neighbors=200)"
      ]
     },
     "execution_count": 95,
     "metadata": {},
     "output_type": "execute_result"
    }
   ],
   "source": [
    "knneig.fit(xtrain, ytrain)"
   ]
  },
  {
   "cell_type": "code",
   "execution_count": 96,
   "id": "7aeed25b",
   "metadata": {},
   "outputs": [
    {
     "data": {
      "text/plain": [
       "array([120.62636336])"
      ]
     },
     "execution_count": 96,
     "metadata": {},
     "output_type": "execute_result"
    }
   ],
   "source": [
    "knneig.predict([[0,61.124727]])"
   ]
  },
  {
   "cell_type": "code",
   "execution_count": 97,
   "id": "763f1e19",
   "metadata": {
    "scrolled": false
   },
   "outputs": [
    {
     "data": {
      "text/plain": [
       "array([120.62636336, 166.30495884, 191.60608876, ..., 186.40762965,\n",
       "       167.92245697, 122.74362311])"
      ]
     },
     "execution_count": 97,
     "metadata": {},
     "output_type": "execute_result"
    }
   ],
   "source": [
    "pred_knn=knneig.predict(xtest)\n",
    "pred_knn"
   ]
  },
  {
   "cell_type": "code",
   "execution_count": 98,
   "id": "bb260288",
   "metadata": {},
   "outputs": [
    {
     "data": {
      "text/plain": [
       "(2567,)"
      ]
     },
     "execution_count": 98,
     "metadata": {},
     "output_type": "execute_result"
    }
   ],
   "source": [
    "pred_knn.shape"
   ]
  },
  {
   "cell_type": "code",
   "execution_count": 99,
   "id": "5be57bbc",
   "metadata": {},
   "outputs": [
    {
     "data": {
      "text/plain": [
       "(2567,)"
      ]
     },
     "execution_count": 99,
     "metadata": {},
     "output_type": "execute_result"
    }
   ],
   "source": [
    "ytest.shape"
   ]
  },
  {
   "cell_type": "code",
   "execution_count": 100,
   "id": "291109cc",
   "metadata": {},
   "outputs": [
    {
     "name": "stdout",
     "output_type": "stream",
     "text": [
      "[120.62636336 166.30495884 191.60608876 ... 186.40762965 167.92245697\n",
      " 122.74362311]\n"
     ]
    }
   ],
   "source": [
    "print(pred_knn)"
   ]
  },
  {
   "cell_type": "code",
   "execution_count": 103,
   "id": "0b0e1a11",
   "metadata": {},
   "outputs": [
    {
     "data": {
      "text/plain": [
       "pandas.core.series.Series"
      ]
     },
     "execution_count": 103,
     "metadata": {},
     "output_type": "execute_result"
    }
   ],
   "source": [
    "type(ytest)"
   ]
  },
  {
   "cell_type": "code",
   "execution_count": 104,
   "id": "ac3b35ae",
   "metadata": {},
   "outputs": [
    {
     "data": {
      "text/plain": [
       "numpy.ndarray"
      ]
     },
     "execution_count": 104,
     "metadata": {},
     "output_type": "execute_result"
    }
   ],
   "source": [
    "type(pred_knn)"
   ]
  },
  {
   "cell_type": "code",
   "execution_count": 105,
   "id": "ba832cad",
   "metadata": {},
   "outputs": [],
   "source": [
    "con_y=ytest.to_numpy()#converted ytest to numpy array"
   ]
  },
  {
   "cell_type": "code",
   "execution_count": 106,
   "id": "e7a6530c",
   "metadata": {},
   "outputs": [
    {
     "data": {
      "text/plain": [
       "numpy.ndarray"
      ]
     },
     "execution_count": 106,
     "metadata": {},
     "output_type": "execute_result"
    }
   ],
   "source": [
    "type(con_y)"
   ]
  },
  {
   "cell_type": "code",
   "execution_count": 107,
   "id": "54542cae",
   "metadata": {},
   "outputs": [],
   "source": [
    "df_compare=pd.DataFrame(data=pred_knn, columns=['Predicted Values'])#Created a Data Frame with the predicted value\n",
    "df_compare.insert(0,'Actual Values',con_y)# Inserted ytest values to the Data Frame"
   ]
  },
  {
   "cell_type": "code",
   "execution_count": 108,
   "id": "0564dc1e",
   "metadata": {},
   "outputs": [
    {
     "data": {
      "text/html": [
       "<div>\n",
       "<style scoped>\n",
       "    .dataframe tbody tr th:only-of-type {\n",
       "        vertical-align: middle;\n",
       "    }\n",
       "\n",
       "    .dataframe tbody tr th {\n",
       "        vertical-align: top;\n",
       "    }\n",
       "\n",
       "    .dataframe thead th {\n",
       "        text-align: right;\n",
       "    }\n",
       "</style>\n",
       "<table border=\"1\" class=\"dataframe\">\n",
       "  <thead>\n",
       "    <tr style=\"text-align: right;\">\n",
       "      <th></th>\n",
       "      <th>Actual Values</th>\n",
       "      <th>Predicted Values</th>\n",
       "    </tr>\n",
       "  </thead>\n",
       "  <tbody>\n",
       "    <tr>\n",
       "      <th>0</th>\n",
       "      <td>117.388949</td>\n",
       "      <td>120.626363</td>\n",
       "    </tr>\n",
       "    <tr>\n",
       "      <th>1</th>\n",
       "      <td>162.521916</td>\n",
       "      <td>166.304959</td>\n",
       "    </tr>\n",
       "    <tr>\n",
       "      <th>2</th>\n",
       "      <td>181.206640</td>\n",
       "      <td>191.606089</td>\n",
       "    </tr>\n",
       "    <tr>\n",
       "      <th>3</th>\n",
       "      <td>140.376336</td>\n",
       "      <td>143.368762</td>\n",
       "    </tr>\n",
       "    <tr>\n",
       "      <th>4</th>\n",
       "      <td>128.915659</td>\n",
       "      <td>111.971717</td>\n",
       "    </tr>\n",
       "    <tr>\n",
       "      <th>...</th>\n",
       "      <td>...</td>\n",
       "      <td>...</td>\n",
       "    </tr>\n",
       "    <tr>\n",
       "      <th>2562</th>\n",
       "      <td>146.045528</td>\n",
       "      <td>137.546546</td>\n",
       "    </tr>\n",
       "    <tr>\n",
       "      <th>2563</th>\n",
       "      <td>147.812869</td>\n",
       "      <td>138.649959</td>\n",
       "    </tr>\n",
       "    <tr>\n",
       "      <th>2564</th>\n",
       "      <td>193.754991</td>\n",
       "      <td>186.407630</td>\n",
       "    </tr>\n",
       "    <tr>\n",
       "      <th>2565</th>\n",
       "      <td>166.622732</td>\n",
       "      <td>167.922457</td>\n",
       "    </tr>\n",
       "    <tr>\n",
       "      <th>2566</th>\n",
       "      <td>140.980158</td>\n",
       "      <td>122.743623</td>\n",
       "    </tr>\n",
       "  </tbody>\n",
       "</table>\n",
       "<p>2567 rows × 2 columns</p>\n",
       "</div>"
      ],
      "text/plain": [
       "      Actual Values  Predicted Values\n",
       "0        117.388949        120.626363\n",
       "1        162.521916        166.304959\n",
       "2        181.206640        191.606089\n",
       "3        140.376336        143.368762\n",
       "4        128.915659        111.971717\n",
       "...             ...               ...\n",
       "2562     146.045528        137.546546\n",
       "2563     147.812869        138.649959\n",
       "2564     193.754991        186.407630\n",
       "2565     166.622732        167.922457\n",
       "2566     140.980158        122.743623\n",
       "\n",
       "[2567 rows x 2 columns]"
      ]
     },
     "execution_count": 108,
     "metadata": {},
     "output_type": "execute_result"
    }
   ],
   "source": [
    "df_compare"
   ]
  },
  {
   "cell_type": "code",
   "execution_count": 44,
   "id": "c3c9f0c7",
   "metadata": {
    "scrolled": true
   },
   "outputs": [
    {
     "data": {
      "text/html": [
       "<div>\n",
       "<style scoped>\n",
       "    .dataframe tbody tr th:only-of-type {\n",
       "        vertical-align: middle;\n",
       "    }\n",
       "\n",
       "    .dataframe tbody tr th {\n",
       "        vertical-align: top;\n",
       "    }\n",
       "\n",
       "    .dataframe thead th {\n",
       "        text-align: right;\n",
       "    }\n",
       "</style>\n",
       "<table border=\"1\" class=\"dataframe\">\n",
       "  <thead>\n",
       "    <tr style=\"text-align: right;\">\n",
       "      <th></th>\n",
       "      <th>Actual Values</th>\n",
       "      <th>Predicted Values</th>\n",
       "    </tr>\n",
       "  </thead>\n",
       "  <tbody>\n",
       "    <tr>\n",
       "      <th>0</th>\n",
       "      <td>117.388949</td>\n",
       "      <td>122.918764</td>\n",
       "    </tr>\n",
       "    <tr>\n",
       "      <th>1</th>\n",
       "      <td>162.521916</td>\n",
       "      <td>168.492148</td>\n",
       "    </tr>\n",
       "    <tr>\n",
       "      <th>2</th>\n",
       "      <td>181.206640</td>\n",
       "      <td>191.235581</td>\n",
       "    </tr>\n",
       "    <tr>\n",
       "      <th>3</th>\n",
       "      <td>140.376336</td>\n",
       "      <td>141.346640</td>\n",
       "    </tr>\n",
       "    <tr>\n",
       "      <th>4</th>\n",
       "      <td>128.915659</td>\n",
       "      <td>114.014343</td>\n",
       "    </tr>\n",
       "  </tbody>\n",
       "</table>\n",
       "</div>"
      ],
      "text/plain": [
       "   Actual Values  Predicted Values\n",
       "0     117.388949        122.918764\n",
       "1     162.521916        168.492148\n",
       "2     181.206640        191.235581\n",
       "3     140.376336        141.346640\n",
       "4     128.915659        114.014343"
      ]
     },
     "execution_count": 44,
     "metadata": {},
     "output_type": "execute_result"
    }
   ],
   "source": [
    "df_compare.head()"
   ]
  },
  {
   "cell_type": "code",
   "execution_count": 45,
   "id": "b4d84393",
   "metadata": {},
   "outputs": [
    {
     "data": {
      "text/plain": [
       "5257    117.388949\n",
       "2226    162.521916\n",
       "3973    181.206640\n",
       "8445    140.376336\n",
       "6296    128.915659\n",
       "Name: Weight, dtype: float64"
      ]
     },
     "execution_count": 45,
     "metadata": {},
     "output_type": "execute_result"
    }
   ],
   "source": [
    "ytest.head()"
   ]
  },
  {
   "cell_type": "code",
   "execution_count": 46,
   "id": "82342453",
   "metadata": {},
   "outputs": [
    {
     "data": {
      "text/plain": [
       "106.7367921383092"
      ]
     },
     "execution_count": 46,
     "metadata": {},
     "output_type": "execute_result"
    }
   ],
   "source": [
    "mean_squared_error(pred_knn, ytest)"
   ]
  },
  {
   "cell_type": "code",
   "execution_count": 47,
   "id": "3f3255f5",
   "metadata": {},
   "outputs": [
    {
     "data": {
      "text/plain": [
       "8.152041210585702"
      ]
     },
     "execution_count": 47,
     "metadata": {},
     "output_type": "execute_result"
    }
   ],
   "source": [
    "mean_absolute_error(pred_knn,ytest)"
   ]
  },
  {
   "cell_type": "code",
   "execution_count": 109,
   "id": "8133e8dc",
   "metadata": {},
   "outputs": [
    {
     "data": {
      "text/plain": [
       "0.8961873570884787"
      ]
     },
     "execution_count": 109,
     "metadata": {},
     "output_type": "execute_result"
    }
   ],
   "source": [
    "knneig.score(xtest,ytest)"
   ]
  },
  {
   "cell_type": "code",
   "execution_count": 110,
   "id": "a8cf0bdd",
   "metadata": {},
   "outputs": [
    {
     "data": {
      "text/plain": [
       "0.8929729656023101"
      ]
     },
     "execution_count": 110,
     "metadata": {},
     "output_type": "execute_result"
    }
   ],
   "source": [
    "knneig.score(xtrain,ytrain)"
   ]
  },
  {
   "cell_type": "markdown",
   "id": "30e5eda2",
   "metadata": {},
   "source": [
    "# Step-2: KNN Classifier:"
   ]
  },
  {
   "cell_type": "code",
   "execution_count": 48,
   "id": "32a37dd0",
   "metadata": {},
   "outputs": [],
   "source": [
    "df2=pd.read_csv('weight-height.csv')"
   ]
  },
  {
   "cell_type": "code",
   "execution_count": 49,
   "id": "79f84965",
   "metadata": {},
   "outputs": [
    {
     "data": {
      "text/html": [
       "<div>\n",
       "<style scoped>\n",
       "    .dataframe tbody tr th:only-of-type {\n",
       "        vertical-align: middle;\n",
       "    }\n",
       "\n",
       "    .dataframe tbody tr th {\n",
       "        vertical-align: top;\n",
       "    }\n",
       "\n",
       "    .dataframe thead th {\n",
       "        text-align: right;\n",
       "    }\n",
       "</style>\n",
       "<table border=\"1\" class=\"dataframe\">\n",
       "  <thead>\n",
       "    <tr style=\"text-align: right;\">\n",
       "      <th></th>\n",
       "      <th>Gender</th>\n",
       "      <th>Height</th>\n",
       "      <th>Weight</th>\n",
       "    </tr>\n",
       "  </thead>\n",
       "  <tbody>\n",
       "    <tr>\n",
       "      <th>0</th>\n",
       "      <td>Male</td>\n",
       "      <td>73.847017</td>\n",
       "      <td>241.893563</td>\n",
       "    </tr>\n",
       "    <tr>\n",
       "      <th>1</th>\n",
       "      <td>Male</td>\n",
       "      <td>68.781904</td>\n",
       "      <td>162.310473</td>\n",
       "    </tr>\n",
       "    <tr>\n",
       "      <th>2</th>\n",
       "      <td>Male</td>\n",
       "      <td>74.110105</td>\n",
       "      <td>212.740856</td>\n",
       "    </tr>\n",
       "    <tr>\n",
       "      <th>3</th>\n",
       "      <td>Male</td>\n",
       "      <td>71.730978</td>\n",
       "      <td>220.042470</td>\n",
       "    </tr>\n",
       "    <tr>\n",
       "      <th>4</th>\n",
       "      <td>Male</td>\n",
       "      <td>69.881796</td>\n",
       "      <td>206.349801</td>\n",
       "    </tr>\n",
       "  </tbody>\n",
       "</table>\n",
       "</div>"
      ],
      "text/plain": [
       "  Gender     Height      Weight\n",
       "0   Male  73.847017  241.893563\n",
       "1   Male  68.781904  162.310473\n",
       "2   Male  74.110105  212.740856\n",
       "3   Male  71.730978  220.042470\n",
       "4   Male  69.881796  206.349801"
      ]
     },
     "execution_count": 49,
     "metadata": {},
     "output_type": "execute_result"
    }
   ],
   "source": [
    "df2.head()"
   ]
  },
  {
   "cell_type": "code",
   "execution_count": 50,
   "id": "49cdf26f",
   "metadata": {},
   "outputs": [],
   "source": [
    "x=df2.drop('Gender',axis=1)"
   ]
  },
  {
   "cell_type": "code",
   "execution_count": 51,
   "id": "2d608ede",
   "metadata": {},
   "outputs": [
    {
     "data": {
      "text/html": [
       "<div>\n",
       "<style scoped>\n",
       "    .dataframe tbody tr th:only-of-type {\n",
       "        vertical-align: middle;\n",
       "    }\n",
       "\n",
       "    .dataframe tbody tr th {\n",
       "        vertical-align: top;\n",
       "    }\n",
       "\n",
       "    .dataframe thead th {\n",
       "        text-align: right;\n",
       "    }\n",
       "</style>\n",
       "<table border=\"1\" class=\"dataframe\">\n",
       "  <thead>\n",
       "    <tr style=\"text-align: right;\">\n",
       "      <th></th>\n",
       "      <th>Height</th>\n",
       "      <th>Weight</th>\n",
       "    </tr>\n",
       "  </thead>\n",
       "  <tbody>\n",
       "    <tr>\n",
       "      <th>0</th>\n",
       "      <td>73.847017</td>\n",
       "      <td>241.893563</td>\n",
       "    </tr>\n",
       "    <tr>\n",
       "      <th>1</th>\n",
       "      <td>68.781904</td>\n",
       "      <td>162.310473</td>\n",
       "    </tr>\n",
       "    <tr>\n",
       "      <th>2</th>\n",
       "      <td>74.110105</td>\n",
       "      <td>212.740856</td>\n",
       "    </tr>\n",
       "    <tr>\n",
       "      <th>3</th>\n",
       "      <td>71.730978</td>\n",
       "      <td>220.042470</td>\n",
       "    </tr>\n",
       "    <tr>\n",
       "      <th>4</th>\n",
       "      <td>69.881796</td>\n",
       "      <td>206.349801</td>\n",
       "    </tr>\n",
       "  </tbody>\n",
       "</table>\n",
       "</div>"
      ],
      "text/plain": [
       "      Height      Weight\n",
       "0  73.847017  241.893563\n",
       "1  68.781904  162.310473\n",
       "2  74.110105  212.740856\n",
       "3  71.730978  220.042470\n",
       "4  69.881796  206.349801"
      ]
     },
     "execution_count": 51,
     "metadata": {},
     "output_type": "execute_result"
    }
   ],
   "source": [
    "x.head()"
   ]
  },
  {
   "cell_type": "code",
   "execution_count": 52,
   "id": "df6c0f04",
   "metadata": {},
   "outputs": [],
   "source": [
    "y=df2['Gender']"
   ]
  },
  {
   "cell_type": "code",
   "execution_count": 53,
   "id": "10776b21",
   "metadata": {},
   "outputs": [
    {
     "data": {
      "text/plain": [
       "0    Male\n",
       "1    Male\n",
       "2    Male\n",
       "3    Male\n",
       "4    Male\n",
       "Name: Gender, dtype: object"
      ]
     },
     "execution_count": 53,
     "metadata": {},
     "output_type": "execute_result"
    }
   ],
   "source": [
    "y.head()"
   ]
  },
  {
   "cell_type": "code",
   "execution_count": 54,
   "id": "02714418",
   "metadata": {},
   "outputs": [],
   "source": [
    "xtrain2, xtest2, ytrain2, ytest2 = train_test_split(x,y, test_size=.3, random_state=142)"
   ]
  },
  {
   "cell_type": "code",
   "execution_count": 55,
   "id": "ab8915d1",
   "metadata": {
    "scrolled": true
   },
   "outputs": [
    {
     "data": {
      "text/html": [
       "<div>\n",
       "<style scoped>\n",
       "    .dataframe tbody tr th:only-of-type {\n",
       "        vertical-align: middle;\n",
       "    }\n",
       "\n",
       "    .dataframe tbody tr th {\n",
       "        vertical-align: top;\n",
       "    }\n",
       "\n",
       "    .dataframe thead th {\n",
       "        text-align: right;\n",
       "    }\n",
       "</style>\n",
       "<table border=\"1\" class=\"dataframe\">\n",
       "  <thead>\n",
       "    <tr style=\"text-align: right;\">\n",
       "      <th></th>\n",
       "      <th>Height</th>\n",
       "      <th>Weight</th>\n",
       "    </tr>\n",
       "  </thead>\n",
       "  <tbody>\n",
       "    <tr>\n",
       "      <th>4771</th>\n",
       "      <td>68.486412</td>\n",
       "      <td>172.546072</td>\n",
       "    </tr>\n",
       "    <tr>\n",
       "      <th>8405</th>\n",
       "      <td>63.946483</td>\n",
       "      <td>135.037495</td>\n",
       "    </tr>\n",
       "    <tr>\n",
       "      <th>4003</th>\n",
       "      <td>68.919604</td>\n",
       "      <td>194.278451</td>\n",
       "    </tr>\n",
       "    <tr>\n",
       "      <th>2418</th>\n",
       "      <td>64.497726</td>\n",
       "      <td>169.841016</td>\n",
       "    </tr>\n",
       "    <tr>\n",
       "      <th>5968</th>\n",
       "      <td>67.049244</td>\n",
       "      <td>160.738096</td>\n",
       "    </tr>\n",
       "  </tbody>\n",
       "</table>\n",
       "</div>"
      ],
      "text/plain": [
       "         Height      Weight\n",
       "4771  68.486412  172.546072\n",
       "8405  63.946483  135.037495\n",
       "4003  68.919604  194.278451\n",
       "2418  64.497726  169.841016\n",
       "5968  67.049244  160.738096"
      ]
     },
     "execution_count": 55,
     "metadata": {},
     "output_type": "execute_result"
    }
   ],
   "source": [
    "xtrain2.head()"
   ]
  },
  {
   "cell_type": "code",
   "execution_count": 56,
   "id": "264fabee",
   "metadata": {},
   "outputs": [
    {
     "data": {
      "text/plain": [
       "4771      Male\n",
       "8405    Female\n",
       "4003      Male\n",
       "2418      Male\n",
       "5968    Female\n",
       "Name: Gender, dtype: object"
      ]
     },
     "execution_count": 56,
     "metadata": {},
     "output_type": "execute_result"
    }
   ],
   "source": [
    "ytrain2.head()"
   ]
  },
  {
   "cell_type": "code",
   "execution_count": 57,
   "id": "aa3f8b93",
   "metadata": {},
   "outputs": [
    {
     "data": {
      "text/plain": [
       "(5988, 2)"
      ]
     },
     "execution_count": 57,
     "metadata": {},
     "output_type": "execute_result"
    }
   ],
   "source": [
    "xtrain2.shape"
   ]
  },
  {
   "cell_type": "code",
   "execution_count": 58,
   "id": "6d096304",
   "metadata": {},
   "outputs": [
    {
     "data": {
      "text/plain": [
       "(2567, 2)"
      ]
     },
     "execution_count": 58,
     "metadata": {},
     "output_type": "execute_result"
    }
   ],
   "source": [
    "xtest2.shape"
   ]
  },
  {
   "cell_type": "code",
   "execution_count": 59,
   "id": "8ca010c1",
   "metadata": {},
   "outputs": [],
   "source": [
    "from sklearn.neighbors import KNeighborsClassifier"
   ]
  },
  {
   "cell_type": "code",
   "execution_count": 60,
   "id": "0290bac0",
   "metadata": {},
   "outputs": [],
   "source": [
    "knclas=KNeighborsClassifier(n_neighbors=200)"
   ]
  },
  {
   "cell_type": "code",
   "execution_count": 61,
   "id": "7da9c39e",
   "metadata": {},
   "outputs": [
    {
     "data": {
      "text/plain": [
       "KNeighborsClassifier(n_neighbors=200)"
      ]
     },
     "execution_count": 61,
     "metadata": {},
     "output_type": "execute_result"
    }
   ],
   "source": [
    "knclas.fit(xtrain2,ytrain2)"
   ]
  },
  {
   "cell_type": "code",
   "execution_count": 62,
   "id": "f47f3a31",
   "metadata": {},
   "outputs": [
    {
     "data": {
      "text/plain": [
       "array(['Male'], dtype=object)"
      ]
     },
     "execution_count": 62,
     "metadata": {},
     "output_type": "execute_result"
    }
   ],
   "source": [
    "knclas.predict([[68.486412,172.546072]])"
   ]
  },
  {
   "cell_type": "code",
   "execution_count": 63,
   "id": "8cbad514",
   "metadata": {},
   "outputs": [
    {
     "data": {
      "text/plain": [
       "array(['Female'], dtype=object)"
      ]
     },
     "execution_count": 63,
     "metadata": {},
     "output_type": "execute_result"
    }
   ],
   "source": [
    "knclas.predict([[63.946483,135]])"
   ]
  },
  {
   "cell_type": "code",
   "execution_count": 64,
   "id": "c115f444",
   "metadata": {
    "scrolled": true
   },
   "outputs": [],
   "source": [
    "knn_pred=knclas.predict(xtest2)"
   ]
  },
  {
   "cell_type": "code",
   "execution_count": 65,
   "id": "9f1f9856",
   "metadata": {},
   "outputs": [
    {
     "data": {
      "text/plain": [
       "array(['Female', 'Male', 'Male', ..., 'Male', 'Male', 'Female'],\n",
       "      dtype=object)"
      ]
     },
     "execution_count": 65,
     "metadata": {},
     "output_type": "execute_result"
    }
   ],
   "source": [
    "knn_pred"
   ]
  },
  {
   "cell_type": "code",
   "execution_count": 66,
   "id": "546bbef0",
   "metadata": {},
   "outputs": [
    {
     "data": {
      "text/plain": [
       "numpy.ndarray"
      ]
     },
     "execution_count": 66,
     "metadata": {},
     "output_type": "execute_result"
    }
   ],
   "source": [
    "type(knn_pred)"
   ]
  },
  {
   "cell_type": "code",
   "execution_count": 67,
   "id": "e13c7ee0",
   "metadata": {},
   "outputs": [
    {
     "data": {
      "text/plain": [
       "pandas.core.series.Series"
      ]
     },
     "execution_count": 67,
     "metadata": {},
     "output_type": "execute_result"
    }
   ],
   "source": [
    "type(ytest2)"
   ]
  },
  {
   "cell_type": "code",
   "execution_count": 68,
   "id": "e8ee21f7",
   "metadata": {},
   "outputs": [],
   "source": [
    "knn_actual=ytest2.to_numpy()"
   ]
  },
  {
   "cell_type": "code",
   "execution_count": 69,
   "id": "46e152a7",
   "metadata": {},
   "outputs": [
    {
     "data": {
      "text/plain": [
       "numpy.ndarray"
      ]
     },
     "execution_count": 69,
     "metadata": {},
     "output_type": "execute_result"
    }
   ],
   "source": [
    "type(knn_actual)"
   ]
  },
  {
   "cell_type": "code",
   "execution_count": 70,
   "id": "e4e15b22",
   "metadata": {},
   "outputs": [],
   "source": [
    "df_table=pd.DataFrame(data=knn_actual,columns=['Actual Values'])"
   ]
  },
  {
   "cell_type": "code",
   "execution_count": 71,
   "id": "75424693",
   "metadata": {},
   "outputs": [
    {
     "data": {
      "text/html": [
       "<div>\n",
       "<style scoped>\n",
       "    .dataframe tbody tr th:only-of-type {\n",
       "        vertical-align: middle;\n",
       "    }\n",
       "\n",
       "    .dataframe tbody tr th {\n",
       "        vertical-align: top;\n",
       "    }\n",
       "\n",
       "    .dataframe thead th {\n",
       "        text-align: right;\n",
       "    }\n",
       "</style>\n",
       "<table border=\"1\" class=\"dataframe\">\n",
       "  <thead>\n",
       "    <tr style=\"text-align: right;\">\n",
       "      <th></th>\n",
       "      <th>Actual Values</th>\n",
       "    </tr>\n",
       "  </thead>\n",
       "  <tbody>\n",
       "    <tr>\n",
       "      <th>0</th>\n",
       "      <td>Female</td>\n",
       "    </tr>\n",
       "    <tr>\n",
       "      <th>1</th>\n",
       "      <td>Male</td>\n",
       "    </tr>\n",
       "    <tr>\n",
       "      <th>2</th>\n",
       "      <td>Male</td>\n",
       "    </tr>\n",
       "    <tr>\n",
       "      <th>3</th>\n",
       "      <td>Female</td>\n",
       "    </tr>\n",
       "    <tr>\n",
       "      <th>4</th>\n",
       "      <td>Female</td>\n",
       "    </tr>\n",
       "  </tbody>\n",
       "</table>\n",
       "</div>"
      ],
      "text/plain": [
       "  Actual Values\n",
       "0        Female\n",
       "1          Male\n",
       "2          Male\n",
       "3        Female\n",
       "4        Female"
      ]
     },
     "execution_count": 71,
     "metadata": {},
     "output_type": "execute_result"
    }
   ],
   "source": [
    "df_table.head()"
   ]
  },
  {
   "cell_type": "code",
   "execution_count": 72,
   "id": "892a07bf",
   "metadata": {},
   "outputs": [],
   "source": [
    "df_table.insert(1,'Predicted Values', knn_pred)"
   ]
  },
  {
   "cell_type": "code",
   "execution_count": 73,
   "id": "efed456e",
   "metadata": {},
   "outputs": [
    {
     "data": {
      "text/html": [
       "<div>\n",
       "<style scoped>\n",
       "    .dataframe tbody tr th:only-of-type {\n",
       "        vertical-align: middle;\n",
       "    }\n",
       "\n",
       "    .dataframe tbody tr th {\n",
       "        vertical-align: top;\n",
       "    }\n",
       "\n",
       "    .dataframe thead th {\n",
       "        text-align: right;\n",
       "    }\n",
       "</style>\n",
       "<table border=\"1\" class=\"dataframe\">\n",
       "  <thead>\n",
       "    <tr style=\"text-align: right;\">\n",
       "      <th></th>\n",
       "      <th>Actual Values</th>\n",
       "      <th>Predicted Values</th>\n",
       "    </tr>\n",
       "  </thead>\n",
       "  <tbody>\n",
       "    <tr>\n",
       "      <th>0</th>\n",
       "      <td>Female</td>\n",
       "      <td>Female</td>\n",
       "    </tr>\n",
       "    <tr>\n",
       "      <th>1</th>\n",
       "      <td>Male</td>\n",
       "      <td>Male</td>\n",
       "    </tr>\n",
       "    <tr>\n",
       "      <th>2</th>\n",
       "      <td>Male</td>\n",
       "      <td>Male</td>\n",
       "    </tr>\n",
       "    <tr>\n",
       "      <th>3</th>\n",
       "      <td>Female</td>\n",
       "      <td>Female</td>\n",
       "    </tr>\n",
       "    <tr>\n",
       "      <th>4</th>\n",
       "      <td>Female</td>\n",
       "      <td>Female</td>\n",
       "    </tr>\n",
       "  </tbody>\n",
       "</table>\n",
       "</div>"
      ],
      "text/plain": [
       "  Actual Values Predicted Values\n",
       "0        Female           Female\n",
       "1          Male             Male\n",
       "2          Male             Male\n",
       "3        Female           Female\n",
       "4        Female           Female"
      ]
     },
     "execution_count": 73,
     "metadata": {},
     "output_type": "execute_result"
    }
   ],
   "source": [
    "df_table.head()"
   ]
  },
  {
   "cell_type": "code",
   "execution_count": 75,
   "id": "458fec90",
   "metadata": {},
   "outputs": [],
   "source": [
    "from sklearn.metrics import classification_report,accuracy_score,confusion_matrix, roc_curve, plot_roc_curve"
   ]
  },
  {
   "cell_type": "code",
   "execution_count": 77,
   "id": "e5dc2e7b",
   "metadata": {},
   "outputs": [
    {
     "name": "stdout",
     "output_type": "stream",
     "text": [
      "              precision    recall  f1-score   support\n",
      "\n",
      "      Female       0.90      0.88      0.89      1033\n",
      "        Male       0.92      0.94      0.93      1534\n",
      "\n",
      "    accuracy                           0.91      2567\n",
      "   macro avg       0.91      0.91      0.91      2567\n",
      "weighted avg       0.91      0.91      0.91      2567\n",
      "\n"
     ]
    }
   ],
   "source": [
    "print(classification_report(ytest2, knn_pred))"
   ]
  },
  {
   "cell_type": "code",
   "execution_count": 79,
   "id": "2e3eeee8",
   "metadata": {},
   "outputs": [],
   "source": [
    "cm=confusion_matrix(ytest2,knn_pred)"
   ]
  },
  {
   "cell_type": "code",
   "execution_count": 80,
   "id": "009df351",
   "metadata": {},
   "outputs": [
    {
     "data": {
      "text/plain": [
       "array([[ 909,  124],\n",
       "       [  99, 1435]], dtype=int64)"
      ]
     },
     "execution_count": 80,
     "metadata": {},
     "output_type": "execute_result"
    }
   ],
   "source": [
    "cm"
   ]
  },
  {
   "cell_type": "code",
   "execution_count": 81,
   "id": "a5315f54",
   "metadata": {},
   "outputs": [
    {
     "data": {
      "text/plain": [
       "0.9131281651733542"
      ]
     },
     "execution_count": 81,
     "metadata": {},
     "output_type": "execute_result"
    }
   ],
   "source": [
    "knclas.score(xtest2, ytest2)"
   ]
  },
  {
   "cell_type": "code",
   "execution_count": 83,
   "id": "94f48d03",
   "metadata": {},
   "outputs": [],
   "source": [
    "from sklearn import metrics"
   ]
  },
  {
   "cell_type": "code",
   "execution_count": 84,
   "id": "c06fc862",
   "metadata": {},
   "outputs": [
    {
     "data": {
      "text/plain": [
       "0.9131281651733542"
      ]
     },
     "execution_count": 84,
     "metadata": {},
     "output_type": "execute_result"
    }
   ],
   "source": [
    "metrics.accuracy_score(ytest2,knn_pred)"
   ]
  },
  {
   "cell_type": "code",
   "execution_count": 90,
   "id": "20cf956a",
   "metadata": {},
   "outputs": [
    {
     "data": {
      "text/plain": [
       "<AxesSubplot:>"
      ]
     },
     "execution_count": 90,
     "metadata": {},
     "output_type": "execute_result"
    },
    {
     "data": {
      "image/png": "[encoded data removed]",
      "text/plain": [
       "<Figure size 576x432 with 2 Axes>"
      ]
     },
     "metadata": {
      "needs_background": "light"
     },
     "output_type": "display_data"
    }
   ],
   "source": [
    "plt.figure(figsize=(8,6))\n",
    "sns.heatmap(cm, annot=True)"
   ]
  },
  {
   "cell_type": "code",
   "execution_count": 92,
   "id": "366d0849",
   "metadata": {},
   "outputs": [
    {
     "data": {
      "text/plain": [
       "[<matplotlib.lines.Line2D at 0x1dd6084b070>]"
      ]
     },
     "execution_count": 92,
     "metadata": {},
     "output_type": "execute_result"
    },
    {
     "data": {
      "image/png": "[encoded data removed]",
      "text/plain": [
       "<Figure size 432x288 with 1 Axes>"
      ]
     },
     "metadata": {
      "needs_background": "light"
     },
     "output_type": "display_data"
    }
   ],
   "source": [
    "plot_roc_curve(knclas, xtest2, ytest2)\n",
    "plt.plot([0,1],[0,1], 'go--')"
   ]
  },
  {
   "cell_type": "code",
   "execution_count": null,
   "id": "5e3106ac",
   "metadata": {},
   "outputs": [],
   "source": []
  }
 ],
 "metadata": {
  "kernelspec": {
   "display_name": "Python 3 (ipykernel)",
   "language": "python",
   "name": "python3"
  },
  "language_info": {
   "codemirror_mode": {
    "name": "ipython",
    "version": 3
   },
   "file_extension": ".py",
   "mimetype": "text/x-python",
   "name": "python",
   "nbconvert_exporter": "python",
   "pygments_lexer": "ipython3",
   "version": "3.9.12"
  }
 },
 "nbformat": 4,
 "nbformat_minor": 5
}
